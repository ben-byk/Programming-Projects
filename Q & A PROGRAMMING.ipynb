{
 "cells": [
  {
   "cell_type": "markdown",
   "id": "7e10daa4-ea83-4912-8ee4-e3b7f9b48dd9",
   "metadata": {},
   "source": [
    "## QUESTION 1\n",
    "**(a)** You are given the string **‘abcdefgh’**"
   ]
  },
  {
   "cell_type": "markdown",
   "id": "2b82765a-da48-47b1-81d1-41a3f47a4192",
   "metadata": {},
   "source": [
    "(i) Design a program to print out in capital letters, the elements in the string one after the other."
   ]
  },
  {
   "cell_type": "code",
   "execution_count": 13,
   "id": "a0076528-cb63-47e4-8b47-9af378325b51",
   "metadata": {},
   "outputs": [
    {
     "name": "stdout",
     "output_type": "stream",
     "text": [
      "A\n",
      "B\n",
      "C\n",
      "D\n",
      "E\n",
      "F\n",
      "G\n",
      "H\n"
     ]
    }
   ],
   "source": [
    "word = (\"abcdefgh\")\n",
    "word=word.upper()\n",
    "for letter in word:\n",
    "    print(letter)"
   ]
  },
  {
   "cell_type": "markdown",
   "id": "d23ffec2-89de-4b10-898b-da7556e74439",
   "metadata": {},
   "source": [
    "(ii) How will you determine the length of the string?"
   ]
  },
  {
   "cell_type": "code",
   "execution_count": 15,
   "id": "ca45b1bf-a274-4c6f-9d71-ee75c5dd63b8",
   "metadata": {},
   "outputs": [
    {
     "data": {
      "text/plain": [
       "8"
      ]
     },
     "execution_count": 15,
     "metadata": {},
     "output_type": "execute_result"
    }
   ],
   "source": [
    "len(word)"
   ]
  },
  {
   "cell_type": "markdown",
   "id": "97b21181-66c0-4456-88bf-fd419fe0fe9d",
   "metadata": {},
   "source": [
    "(iii) How will you convert the string into a list? "
   ]
  },
  {
   "cell_type": "code",
   "execution_count": 19,
   "id": "7f582568-323a-4ed2-9dfb-d888869e6c37",
   "metadata": {},
   "outputs": [
    {
     "data": {
      "text/plain": [
       "['a', 'b', 'c', 'd', 'e', 'f', 'g', 'h']"
      ]
     },
     "execution_count": 19,
     "metadata": {},
     "output_type": "execute_result"
    }
   ],
   "source": [
    "string = (\"abcdefgh\")\n",
    "string = list(string)\n",
    "string"
   ]
  },
  {
   "cell_type": "markdown",
   "id": "b3b9632b-921f-49ff-9995-6cf92ad7f398",
   "metadata": {},
   "source": [
    "**(b)** You are given the string ‘159103794’. "
   ]
  },
  {
   "cell_type": "markdown",
   "id": "5897f7de-b06e-4770-8b9e-3e544b0c38f3",
   "metadata": {},
   "source": [
    "(i) How will you convert the string into an integer? "
   ]
  },
  {
   "cell_type": "code",
   "execution_count": 21,
   "id": "ad4835d3-6b8d-448e-97af-d31e5c938aea",
   "metadata": {},
   "outputs": [
    {
     "data": {
      "text/plain": [
       "159103794"
      ]
     },
     "execution_count": 21,
     "metadata": {},
     "output_type": "execute_result"
    }
   ],
   "source": [
    "string = (\"159103794\")\n",
    "string = int(string)\n",
    "string"
   ]
  },
  {
   "cell_type": "markdown",
   "id": "4ce4447f-d683-4623-8332-83d25162fb58",
   "metadata": {},
   "source": [
    "(ii) You are to write a program to convert the elements of the string into individual integers and find the average of the elements. Complete the program below to complete this task. "
   ]
  },
  {
   "cell_type": "code",
   "execution_count": 35,
   "id": "7f1345f4-f2de-49a1-ae97-0fa7fdf8a76e",
   "metadata": {},
   "outputs": [
    {
     "data": {
      "text/plain": [
       "4.333333333333333"
      ]
     },
     "execution_count": 35,
     "metadata": {},
     "output_type": "execute_result"
    }
   ],
   "source": [
    "import numpy as np\n",
    "a='159103794'\n",
    "b=list(a)\n",
    "c=[]\n",
    "# Iterating over list\n",
    "for i in b:\n",
    "#converts each element to an integer\n",
    "    c.append(int(i))\n",
    "np.mean(c)"
   ]
  },
  {
   "cell_type": "markdown",
   "id": "07f9b729-5829-432d-9abc-d01a5d81c288",
   "metadata": {},
   "source": [
    "**(c)** You are given the list a=[3, -1, 5, 7, 10], and b=[3, 6, 9, 2]. "
   ]
  },
  {
   "cell_type": "markdown",
   "id": "ec779e67-555b-4231-9fcb-1c1c3c35a870",
   "metadata": {},
   "source": [
    "(i) Write a line of code to expand **a** to include the element -60. "
   ]
  },
  {
   "cell_type": "code",
   "execution_count": 37,
   "id": "080db877-0bf7-4fc4-aa78-7051d7e2c3d2",
   "metadata": {},
   "outputs": [
    {
     "data": {
      "text/plain": [
       "[3, -1, 5, 7, 10, -60]"
      ]
     },
     "execution_count": 37,
     "metadata": {},
     "output_type": "execute_result"
    }
   ],
   "source": [
    "a=[3, -1, 5, 7, 10]\n",
    "a.append(-60)\n",
    "a"
   ]
  },
  {
   "cell_type": "markdown",
   "id": "16d4f104-618b-45ab-bf6b-7a8dabb2b55a",
   "metadata": {},
   "source": [
    "(ii) Write a code to add the elements in **b** to **a** and sort the resulting list. "
   ]
  },
  {
   "cell_type": "code",
   "execution_count": 39,
   "id": "d8ee4b9f-f59f-4a94-b7a2-a58528b69932",
   "metadata": {},
   "outputs": [
    {
     "data": {
      "text/plain": [
       "[-60, -1, 2, 3, 3, 5, 6, 7, 9, 10]"
      ]
     },
     "execution_count": 39,
     "metadata": {},
     "output_type": "execute_result"
    }
   ],
   "source": [
    " b=[3, 6, 9, 2]\n",
    "for i in b:\n",
    "    a.append(i)\n",
    "a.sort()\n",
    "a"
   ]
  },
  {
   "cell_type": "markdown",
   "id": "07835ee7-5dac-4f66-8531-e26a7904374d",
   "metadata": {},
   "source": [
    "**(d)** Provide a function that can be used to find the product of the elements in a list/range containing numbers. Assume the function name is **prod**. "
   ]
  },
  {
   "cell_type": "code",
   "execution_count": 252,
   "id": "f4534237-f1d6-4223-98fc-2e7746eaafe0",
   "metadata": {},
   "outputs": [
    {
     "name": "stdout",
     "output_type": "stream",
     "text": [
      "24\n"
     ]
    }
   ],
   "source": [
    " def prod(numbers):\n",
    "     product = 1\n",
    "     for i in numbers:\n",
    "         product *= i\n",
    "     print(product)\n",
    "prod([1,2,3,4])"
   ]
  },
  {
   "cell_type": "markdown",
   "id": "1470d768-b2b6-4c8d-9b52-afc9ed0b6a21",
   "metadata": {},
   "source": [
    "**(e)** Using your function **prod** from question 1(d), determine the answer when the product of the elements in range(5,20,1) is divided by the product of the elements in range(5,20,2). Note: You are to show the line of codes and run to get the answer. "
   ]
  },
  {
   "cell_type": "code",
   "execution_count": 256,
   "id": "b9afdd17-c3eb-4911-bb1c-2e87b485bc94",
   "metadata": {},
   "outputs": [
    {
     "name": "stdout",
     "output_type": "stream",
     "text": [
      "5068545850368000\n",
      "218243025\n"
     ]
    }
   ],
   "source": [
    "a = range(5,20,1)\n",
    "b = range(5,20,2)\n",
    "prod(a)\n",
    "prod(b)\n"
   ]
  },
  {
   "cell_type": "code",
   "execution_count": 242,
   "id": "c5463496-9329-4b32-87fe-21b7f3b59a97",
   "metadata": {},
   "outputs": [
    {
     "data": {
      "text/plain": [
       "23224320.0"
      ]
     },
     "execution_count": 242,
     "metadata": {},
     "output_type": "execute_result"
    }
   ],
   "source": [
    "5068545850368000/218243025"
   ]
  },
  {
   "cell_type": "markdown",
   "id": "0b57b837-a7c0-4161-a72e-0f5d120df89c",
   "metadata": {},
   "source": [
    "## QUESTION 2"
   ]
  },
  {
   "cell_type": "markdown",
   "id": "59effd78-213a-428c-bdc1-f0eba1cb9d2e",
   "metadata": {},
   "source": [
    "**(a)** A small family-owned supermarket sells six items, namely Milo1, Milo2, Yoghurt, Tomatoes, Ginger, and Onion that are either in a can (for example Milo1) or packed in a bag (for example Ginger). The prices of the six items are GHS55, GHS80, GHS12, GHS30, GHS 20, and GHS25 respectively for Milo1, Milo2, Yoghurt, Tomatoes, Ginger, and Onion.\n",
    "This supermarket has contacted you (who just took the course programming for analytics) to design a program that would first scan one by one the items bought in a basket, record the item names in the process into a python list, and after, output the total cost of the items bought. \n",
    "Answer the following questions which are meant to create such a program. For each of the questions, provide the necessary code and run it."
   ]
  },
  {
   "cell_type": "markdown",
   "id": "5c7df795-f67d-4b71-b016-c9435c454d92",
   "metadata": {},
   "source": [
    "(i) Create a list by name **products** for the six items. Note: Do not leave white space in between. "
   ]
  },
  {
   "cell_type": "code",
   "execution_count": 7,
   "id": "bec1935d-b720-4ff6-97c8-08a43933fac0",
   "metadata": {},
   "outputs": [
    {
     "name": "stdout",
     "output_type": "stream",
     "text": [
      "['Milo1', 'Milo2', 'Yoghurt', 'Tomatoes', 'Ginger', 'Onion']\n"
     ]
    }
   ],
   "source": [
    "products = [\"Milo1\",\"Milo2\",\"Yoghurt\",\"Tomatoes\",\"Ginger\",\"Onion\"]\n",
    "print(products)"
   ]
  },
  {
   "cell_type": "markdown",
   "id": "358b1187-2dfd-4477-bbd4-93931be47144",
   "metadata": {},
   "source": [
    "(ii) Create a tuple by name price for the six items. Ignore the ‘GHS’ symbol. Also, the prices must match the position of the items in the variable **products**."
   ]
  },
  {
   "cell_type": "code",
   "execution_count": 15,
   "id": "d466c3ec-ecc2-470c-a3df-7d99bebd9be5",
   "metadata": {},
   "outputs": [
    {
     "data": {
      "text/plain": [
       "(55, 80, 12, 30, 20, 25)"
      ]
     },
     "execution_count": 15,
     "metadata": {},
     "output_type": "execute_result"
    }
   ],
   "source": [
    "price = (55,80,12,30,20,25)\n",
    "price"
   ]
  },
  {
   "cell_type": "markdown",
   "id": "7fc582e3-99af-44a1-bc41-76f52786fea8",
   "metadata": {},
   "source": [
    "(iii) Use the **input** function to ask (i.e. scan) for the names of the items bought. For example, a shopper could buy only the items **Milo2**, **Tomatoes**, and **Ginger**. Name the items bought by a shopper with the variable **items_bought**. \n",
    "\n",
    "Note: Separate the names of the items by a comma ( ‘ ) when entering. "
   ]
  },
  {
   "cell_type": "code",
   "execution_count": 3,
   "id": "f3d01798-3b4b-4ab9-841c-780222d4d02d",
   "metadata": {},
   "outputs": [
    {
     "name": "stdin",
     "output_type": "stream",
     "text": [
      "What items did the customer buy? Milo2,Tomatoes,Ginger\n"
     ]
    }
   ],
   "source": [
    "items_bought = input(\"What items did the customer buy?\")\n"
   ]
  },
  {
   "cell_type": "markdown",
   "id": "aadd27b4-af6c-4d2a-aab3-f7b9efa7c5f1",
   "metadata": {},
   "source": [
    "(iv) How will you determine the length of the elements in items_bought? Note: You need to use the appropriate function to get the length. "
   ]
  },
  {
   "cell_type": "code",
   "execution_count": 87,
   "id": "5ea0d073-6d3b-4eab-a8b3-7d01e194f1d6",
   "metadata": {},
   "outputs": [
    {
     "data": {
      "text/plain": [
       "21"
      ]
     },
     "execution_count": 87,
     "metadata": {},
     "output_type": "execute_result"
    }
   ],
   "source": [
    "len(items_bought)"
   ]
  },
  {
   "cell_type": "markdown",
   "id": "d4c85359-99da-48f7-b61d-9d78d324ed87",
   "metadata": {},
   "source": [
    "(v) The commas in items_bought were counted as part of the elements in items_bought for question (4) since they were part of what was entered into the input function. In order not to count the commas, you need to take them out. Using the split function, split the string elements (i.e. item names) in the **items_bought** variable using comma. Complete the line of code below to perform this task. "
   ]
  },
  {
   "cell_type": "code",
   "execution_count": 5,
   "id": "f908f2b1-3ae7-44bd-84d9-6e88a008d8bb",
   "metadata": {},
   "outputs": [
    {
     "data": {
      "text/plain": [
       "['Milo2', 'Tomatoes', 'Ginger']"
      ]
     },
     "execution_count": 5,
     "metadata": {},
     "output_type": "execute_result"
    }
   ],
   "source": [
    "#remove ___________ and write the appropriate answer to finish the line of code below.\n",
    "\n",
    "item_bought = items_bought.split(\",\")\n",
    "item_bought"
   ]
  },
  {
   "cell_type": "markdown",
   "id": "2b414bb0-3975-4d81-8c4a-9e72863ef1a4",
   "metadata": {},
   "source": [
    "(vi) You are to assign the value 0 to a new variable by name **total_cost**, and create a **‘for’** loop to find the total cost of the items bought and assign it to the variable **total_cost**.You are to do this making use of some of the variables or information created earlier. Complete the line of code below to perform this task."
   ]
  },
  {
   "cell_type": "code",
   "execution_count": 17,
   "id": "e75efd84-c1c7-4be2-a37c-aa081bb88395",
   "metadata": {},
   "outputs": [
    {
     "name": "stdout",
     "output_type": "stream",
     "text": [
      "total price is: 130\n"
     ]
    }
   ],
   "source": [
    "#remove ___________ and write the appropriate answer to finish the line of codes below.\n",
    "total_cost=0\n",
    "for items in item_bought:\n",
    "    x=products.index(items)\n",
    "    item_price=price[x]\n",
    "    total_cost=total_cost+item_price\n",
    "print('total price is:', total_cost)\n"
   ]
  },
  {
   "cell_type": "markdown",
   "id": "0fb26e46-4e4a-4086-9dc8-16bf0e8cb98c",
   "metadata": {},
   "source": [
    "(vii) Now, collect all your codes from question (i) to question (vi) in the order created to form a program. You can ignore that of (iv). Do not run the program yet.  \n",
    "\n",
    "Next, suppose a cashier scans or enters the items bought by a customer in the following order: **Milo1**,**Milo1**,**Ginger**,**Ginger**,**Ginger**,**Milo1**,**Onion**,**Onion**,**Tomatoes**,**Tomatoes**,**Milo2**,**Tomatoes**.\\\n",
    "Run your program and enter these listed items to find their total cost.\\\n",
    "**(3 marks)**"
   ]
  },
  {
   "cell_type": "code",
   "execution_count": 19,
   "id": "f3558f58-3bc1-4d44-a97e-4ffe7d14e4dc",
   "metadata": {},
   "outputs": [
    {
     "name": "stdin",
     "output_type": "stream",
     "text": [
      "What items did the customer buy? Milo1,Milo1,Ginger,Ginger,Ginger,Milo1,Onion,Onion,Tomatoes,Tomatoes,Milo2,Tomatoes\n"
     ]
    },
    {
     "name": "stdout",
     "output_type": "stream",
     "text": [
      "total price is: 445\n"
     ]
    }
   ],
   "source": [
    "products = [\"Milo1\",\"Milo2\",\"Yoghurt\",\"Tomatoes\",\"Ginger\",\"Onion\"]\n",
    "price = (55,80,12,30,20,25)\n",
    "items_bought = input(\"What items did the customer buy?\")\n",
    "item_bought = items_bought.split(\",\")\n",
    "total_cost=0\n",
    "for items in item_bought:\n",
    "    x=products.index(items)\n",
    "    item_price=price[x]\n",
    "    total_cost=total_cost+item_price\n",
    "print('total price is:', total_cost)"
   ]
  },
  {
   "cell_type": "markdown",
   "id": "e1023679-2cc6-44f0-831b-9f782e45535e",
   "metadata": {},
   "source": [
    "## QUESTION 3\n",
    "The store manager concerning the problem in question 1 has been complaining that the software you created in question 2 is too cumbersome to use. In particular, he wishes for a simple software that will just takes in a list of the items and automatically return the total price. In addition, the store now uses numbers as codes for the items. Currently, the store uses 1 for **Milo1**, 2 for **Milo2**, 3 for **Yoghurt**, 4 for **Tomatoes**, 5 for **Ginger**, and 6 for **Onion**. Answer the following question to create a function to take in a list of items of a transaction and output the total price."
   ]
  },
  {
   "cell_type": "markdown",
   "id": "c0e37b32-b0d9-4369-a156-ece77cdc97a6",
   "metadata": {},
   "source": [
    "(i) Continue the following line of codes to create the function **cost_total** that will take in one argument in the form of list called **list2** containing the items of a transaction (i.e. products bought) and return the total price. Note: You can modify your code from question 2."
   ]
  },
  {
   "cell_type": "code",
   "execution_count": 7,
   "id": "d5a47479-ffc9-4e17-a1bc-dda8096fbd2c",
   "metadata": {},
   "outputs": [],
   "source": [
    "#remove ___________ and write the appropriate answer to finish the line of codes below.\n",
    "\n",
    "products = [1, 2, 3, 4, 5, 6]\n",
    "price = (55, 80, 12, 30, 20, 25)\n",
    "\n",
    "def cost_total(list2: list):\n",
    "    total_cost=0\n",
    "    for items in list2:\n",
    "        x=products.index(items)\n",
    "        item_price=price[x]\n",
    "        total_cost=total_cost+item_price\n",
    "    return total_cost\n",
    "    print('total price is:',total_cost)"
   ]
  },
  {
   "cell_type": "markdown",
   "id": "4cccdf62-f1d9-4b3e-b577-76ef34e23adc",
   "metadata": {},
   "source": [
    "(ii) Using the function **cost_total**, find the total price of a transaction containing items in the following order after scanning: 1,1,5,5,5,6,6,4,2,1,1,3,2. Show the code for this exercise and run for the final result. "
   ]
  },
  {
   "cell_type": "code",
   "execution_count": 11,
   "id": "edbe6a32-829c-4e18-a528-7e9a38f4bf8f",
   "metadata": {},
   "outputs": [
    {
     "data": {
      "text/plain": [
       "532"
      ]
     },
     "execution_count": 11,
     "metadata": {},
     "output_type": "execute_result"
    }
   ],
   "source": [
    "list2 = [1,1,5,5,5,6,6,4,2,1,1,3,2]\n",
    "cost_total(list2)"
   ]
  },
  {
   "cell_type": "markdown",
   "id": "64adeb5d-5744-4519-8335-918654f09588",
   "metadata": {},
   "source": [
    "(iii) What is the total price of the transaction in question (2) above?"
   ]
  },
  {
   "cell_type": "code",
   "execution_count": null,
   "id": "7c67246e-178e-461b-920c-46064a4208a4",
   "metadata": {},
   "outputs": [],
   "source": [
    "532"
   ]
  },
  {
   "cell_type": "markdown",
   "id": "0eaf17bf-f224-41eb-87ce-1434945e0d07",
   "metadata": {},
   "source": [
    "## QUESTION 4"
   ]
  },
  {
   "cell_type": "code",
   "execution_count": 13,
   "id": "b9fa032c-efcd-4a9e-8f85-bee320eedbb8",
   "metadata": {},
   "outputs": [],
   "source": [
    "import pandas as pd  \n",
    "import numpy as np  \n",
    "import matplotlib.pyplot as plt  \n",
    "import seaborn as sns"
   ]
  },
  {
   "cell_type": "markdown",
   "id": "e219056b-d9db-44fe-bae1-47d18a9645c5",
   "metadata": {},
   "source": [
    "(1) Load the **World** dataset from Sakai and assign to a variable with the name **df** and display the last five rows in a Pandas DataFrame"
   ]
  },
  {
   "cell_type": "code",
   "execution_count": 17,
   "id": "0627b8fb-38e0-4dc1-be55-8e0f4bfcf827",
   "metadata": {},
   "outputs": [
    {
     "data": {
      "text/html": [
       "<div>\n",
       "<style scoped>\n",
       "    .dataframe tbody tr th:only-of-type {\n",
       "        vertical-align: middle;\n",
       "    }\n",
       "\n",
       "    .dataframe tbody tr th {\n",
       "        vertical-align: top;\n",
       "    }\n",
       "\n",
       "    .dataframe thead th {\n",
       "        text-align: right;\n",
       "    }\n",
       "</style>\n",
       "<table border=\"1\" class=\"dataframe\">\n",
       "  <thead>\n",
       "    <tr style=\"text-align: right;\">\n",
       "      <th></th>\n",
       "      <th>scores_overall</th>\n",
       "      <th>overall_rank</th>\n",
       "      <th>scores_teaching</th>\n",
       "      <th>scores_teaching_rank</th>\n",
       "      <th>scores_research</th>\n",
       "      <th>scores_research_rank</th>\n",
       "      <th>scores_citations</th>\n",
       "      <th>scores_citations_rank</th>\n",
       "      <th>scores_industry_income</th>\n",
       "      <th>scores_industry_income_rank</th>\n",
       "      <th>...</th>\n",
       "      <th>location</th>\n",
       "      <th>stats_number_students</th>\n",
       "      <th>stats_student_staff_ratio</th>\n",
       "      <th>stats_%_intl_students</th>\n",
       "      <th>stats_%_female</th>\n",
       "      <th>stats_%_male</th>\n",
       "      <th>University Name</th>\n",
       "      <th>subjects_offered</th>\n",
       "      <th>closed</th>\n",
       "      <th>unaccredited</th>\n",
       "    </tr>\n",
       "  </thead>\n",
       "  <tbody>\n",
       "    <tr>\n",
       "      <th>2667</th>\n",
       "      <td>NaN</td>\n",
       "      <td>1000763.0</td>\n",
       "      <td>15.6</td>\n",
       "      <td>780.0</td>\n",
       "      <td>49.6</td>\n",
       "      <td>787</td>\n",
       "      <td>41.6</td>\n",
       "      <td>815.480344</td>\n",
       "      <td>44.84244</td>\n",
       "      <td>780.5</td>\n",
       "      <td>...</td>\n",
       "      <td>Kazakhstan</td>\n",
       "      <td>4,872</td>\n",
       "      <td>18.2</td>\n",
       "      <td>0.00</td>\n",
       "      <td>34.0</td>\n",
       "      <td>34</td>\n",
       "      <td>Zhetysu University</td>\n",
       "      <td>History, Philosophy &amp; Theology,Psychology,Lang...</td>\n",
       "      <td>FALSE</td>\n",
       "      <td>True</td>\n",
       "    </tr>\n",
       "    <tr>\n",
       "      <th>2668</th>\n",
       "      <td>NaN</td>\n",
       "      <td>1000764.0</td>\n",
       "      <td>6.6</td>\n",
       "      <td>780.0</td>\n",
       "      <td>9.8</td>\n",
       "      <td>787</td>\n",
       "      <td>41.6</td>\n",
       "      <td>815.480344</td>\n",
       "      <td>44.84244</td>\n",
       "      <td>780.5</td>\n",
       "      <td>...</td>\n",
       "      <td>Ukraine</td>\n",
       "      <td>4,454</td>\n",
       "      <td>16.1</td>\n",
       "      <td>0.01</td>\n",
       "      <td>60.0</td>\n",
       "      <td>60</td>\n",
       "      <td>Zhytomyr Polytechnic State University</td>\n",
       "      <td>Law,Economics &amp; Econometrics,Politics &amp; Intern...</td>\n",
       "      <td>FALSE</td>\n",
       "      <td>True</td>\n",
       "    </tr>\n",
       "    <tr>\n",
       "      <th>2669</th>\n",
       "      <td>NaN</td>\n",
       "      <td>1000765.0</td>\n",
       "      <td>12.4</td>\n",
       "      <td>780.0</td>\n",
       "      <td>16.8</td>\n",
       "      <td>787</td>\n",
       "      <td>41.6</td>\n",
       "      <td>815.480344</td>\n",
       "      <td>44.84244</td>\n",
       "      <td>780.5</td>\n",
       "      <td>...</td>\n",
       "      <td>Algeria</td>\n",
       "      <td>31,103</td>\n",
       "      <td>28.5</td>\n",
       "      <td>0.00</td>\n",
       "      <td>45.0</td>\n",
       "      <td>45</td>\n",
       "      <td>Ziane Achour University of Djelfa</td>\n",
       "      <td>Architecture,Agriculture &amp; Forestry,Biological...</td>\n",
       "      <td>FALSE</td>\n",
       "      <td>True</td>\n",
       "    </tr>\n",
       "    <tr>\n",
       "      <th>2670</th>\n",
       "      <td>NaN</td>\n",
       "      <td>1000766.0</td>\n",
       "      <td>19.5</td>\n",
       "      <td>780.0</td>\n",
       "      <td>5.0</td>\n",
       "      <td>787</td>\n",
       "      <td>41.6</td>\n",
       "      <td>815.480344</td>\n",
       "      <td>44.84244</td>\n",
       "      <td>780.5</td>\n",
       "      <td>...</td>\n",
       "      <td>Pakistan</td>\n",
       "      <td>5,672</td>\n",
       "      <td>9.2</td>\n",
       "      <td>0.00</td>\n",
       "      <td>42.0</td>\n",
       "      <td>42</td>\n",
       "      <td>Ziauddin University</td>\n",
       "      <td>Medicine &amp; Dentistry,Other Health</td>\n",
       "      <td>FALSE</td>\n",
       "      <td>True</td>\n",
       "    </tr>\n",
       "    <tr>\n",
       "      <th>2671</th>\n",
       "      <td>NaN</td>\n",
       "      <td>NaN</td>\n",
       "      <td>NaN</td>\n",
       "      <td>781.5</td>\n",
       "      <td>16.3</td>\n",
       "      <td>787</td>\n",
       "      <td>41.6</td>\n",
       "      <td>982.789678</td>\n",
       "      <td>44.84244</td>\n",
       "      <td>780.5</td>\n",
       "      <td>...</td>\n",
       "      <td>NaN</td>\n",
       "      <td>0</td>\n",
       "      <td>0.0</td>\n",
       "      <td>0.00</td>\n",
       "      <td>0.0</td>\n",
       "      <td>0</td>\n",
       "      <td>NaN</td>\n",
       "      <td>NaN</td>\n",
       "      <td>NaN</td>\n",
       "      <td>NaN</td>\n",
       "    </tr>\n",
       "  </tbody>\n",
       "</table>\n",
       "<p>5 rows × 22 columns</p>\n",
       "</div>"
      ],
      "text/plain": [
       "      scores_overall  overall_rank  scores_teaching  scores_teaching_rank  \\\n",
       "2667             NaN     1000763.0             15.6                 780.0   \n",
       "2668             NaN     1000764.0              6.6                 780.0   \n",
       "2669             NaN     1000765.0             12.4                 780.0   \n",
       "2670             NaN     1000766.0             19.5                 780.0   \n",
       "2671             NaN           NaN              NaN                 781.5   \n",
       "\n",
       "      scores_research  scores_research_rank  scores_citations  \\\n",
       "2667             49.6                   787              41.6   \n",
       "2668              9.8                   787              41.6   \n",
       "2669             16.8                   787              41.6   \n",
       "2670              5.0                   787              41.6   \n",
       "2671             16.3                   787              41.6   \n",
       "\n",
       "      scores_citations_rank  scores_industry_income  \\\n",
       "2667             815.480344                44.84244   \n",
       "2668             815.480344                44.84244   \n",
       "2669             815.480344                44.84244   \n",
       "2670             815.480344                44.84244   \n",
       "2671             982.789678                44.84244   \n",
       "\n",
       "      scores_industry_income_rank  ...    location  stats_number_students  \\\n",
       "2667                        780.5  ...  Kazakhstan                  4,872   \n",
       "2668                        780.5  ...     Ukraine                  4,454   \n",
       "2669                        780.5  ...     Algeria                 31,103   \n",
       "2670                        780.5  ...    Pakistan                  5,672   \n",
       "2671                        780.5  ...         NaN                      0   \n",
       "\n",
       "     stats_student_staff_ratio stats_%_intl_students  stats_%_female  \\\n",
       "2667                      18.2                  0.00            34.0   \n",
       "2668                      16.1                  0.01            60.0   \n",
       "2669                      28.5                  0.00            45.0   \n",
       "2670                       9.2                  0.00            42.0   \n",
       "2671                       0.0                  0.00             0.0   \n",
       "\n",
       "      stats_%_male                        University Name  \\\n",
       "2667            34                     Zhetysu University   \n",
       "2668            60  Zhytomyr Polytechnic State University   \n",
       "2669            45      Ziane Achour University of Djelfa   \n",
       "2670            42                    Ziauddin University   \n",
       "2671             0                                    NaN   \n",
       "\n",
       "                                       subjects_offered closed unaccredited  \n",
       "2667  History, Philosophy & Theology,Psychology,Lang...  FALSE         True  \n",
       "2668  Law,Economics & Econometrics,Politics & Intern...  FALSE         True  \n",
       "2669  Architecture,Agriculture & Forestry,Biological...  FALSE         True  \n",
       "2670                  Medicine & Dentistry,Other Health  FALSE         True  \n",
       "2671                                                NaN    NaN          NaN  \n",
       "\n",
       "[5 rows x 22 columns]"
      ]
     },
     "execution_count": 17,
     "metadata": {},
     "output_type": "execute_result"
    }
   ],
   "source": [
    "df = pd.read_csv(\"World.csv\")\n",
    "df.tail()"
   ]
  },
  {
   "cell_type": "markdown",
   "id": "43b9d38a-3851-426e-bae1-7529422cec8e",
   "metadata": {},
   "source": [
    "(2) Show a summary of the dataset, including data types and non-null counts. "
   ]
  },
  {
   "cell_type": "code",
   "execution_count": 97,
   "id": "a0cda913-1c60-440f-a27f-be788505487f",
   "metadata": {},
   "outputs": [
    {
     "data": {
      "text/plain": [
       "scores_overall                       float64\n",
       "overall_rank                         float64\n",
       "scores_teaching                      float64\n",
       "scores_teaching_rank                 float64\n",
       "scores_research                      float64\n",
       "scores_research_rank                   int64\n",
       "scores_citations                     float64\n",
       "scores_citations_rank                float64\n",
       "scores_industry_income               float64\n",
       "scores_industry_income_rank          float64\n",
       "scores_international_outlook         float64\n",
       "scores_international_outlook_rank    float64\n",
       "location                              object\n",
       "stats_number_students                 object\n",
       "stats_student_staff_ratio            float64\n",
       "stats_%_intl_students                float64\n",
       "stats_%_female                       float64\n",
       "stats_%_male                           int64\n",
       "University Name                       object\n",
       "subjects_offered                      object\n",
       "closed                                object\n",
       "unaccredited                          object\n",
       "dtype: object"
      ]
     },
     "execution_count": 97,
     "metadata": {},
     "output_type": "execute_result"
    }
   ],
   "source": [
    "df.dtypes"
   ]
  },
  {
   "cell_type": "code",
   "execution_count": 285,
   "id": "dd77b093-2f20-484c-b931-1517b28a8790",
   "metadata": {},
   "outputs": [
    {
     "data": {
      "text/plain": [
       "scores_overall                       766\n",
       "overall_rank                           1\n",
       "scores_teaching                        1\n",
       "scores_teaching_rank                   3\n",
       "scores_research                        0\n",
       "scores_research_rank                   0\n",
       "scores_citations                       0\n",
       "scores_citations_rank                  0\n",
       "scores_industry_income                 0\n",
       "scores_industry_income_rank            0\n",
       "scores_international_outlook           0\n",
       "scores_international_outlook_rank      0\n",
       "location                               2\n",
       "stats_number_students                  0\n",
       "stats_student_staff_ratio              0\n",
       "stats_%_intl_students                  0\n",
       "stats_%_female                       187\n",
       "stats_%_male                           0\n",
       "University Name                        1\n",
       "subjects_offered                       5\n",
       "closed                                 1\n",
       "unaccredited                           1\n",
       "top_20                                 0\n",
       "dtype: int64"
      ]
     },
     "execution_count": 285,
     "metadata": {},
     "output_type": "execute_result"
    }
   ],
   "source": [
    "df.isnull().sum()"
   ]
  },
  {
   "cell_type": "markdown",
   "id": "4cefc328-f493-40cb-96cd-21c9bce33bda",
   "metadata": {},
   "source": [
    "(3) Check for missing values in **df** and display the total missing values per column. "
   ]
  },
  {
   "cell_type": "code",
   "execution_count": 280,
   "id": "09070883-739d-4ed7-bba7-8a7da3117ec2",
   "metadata": {},
   "outputs": [
    {
     "data": {
      "text/plain": [
       "Index(['scores_overall', 'overall_rank', 'scores_teaching',\n",
       "       'scores_teaching_rank', 'scores_research', 'scores_research_rank',\n",
       "       'scores_citations', 'scores_citations_rank', 'scores_industry_income',\n",
       "       'scores_industry_income_rank', 'scores_international_outlook',\n",
       "       'scores_international_outlook_rank', 'location',\n",
       "       'stats_number_students', 'stats_student_staff_ratio',\n",
       "       'stats_%_intl_students', 'stats_%_female', 'stats_%_male',\n",
       "       'University Name', 'subjects_offered', 'closed', 'unaccredited',\n",
       "       'top_20'],\n",
       "      dtype='object')"
      ]
     },
     "execution_count": 280,
     "metadata": {},
     "output_type": "execute_result"
    }
   ],
   "source": [
    "df.columns"
   ]
  },
  {
   "cell_type": "code",
   "execution_count": 289,
   "id": "0da03e88-f536-4339-a2e4-83f9caa15bba",
   "metadata": {},
   "outputs": [
    {
     "data": {
      "text/plain": [
       "scores_overall                       766\n",
       "overall_rank                           1\n",
       "scores_teaching                        1\n",
       "scores_teaching_rank                   3\n",
       "scores_research                        0\n",
       "scores_research_rank                   0\n",
       "scores_citations                       0\n",
       "scores_citations_rank                  0\n",
       "scores_industry_income                 0\n",
       "scores_industry_income_rank            0\n",
       "scores_international_outlook           0\n",
       "scores_international_outlook_rank      0\n",
       "location                               2\n",
       "stats_number_students                  0\n",
       "stats_student_staff_ratio              0\n",
       "stats_%_intl_students                  0\n",
       "stats_%_female                       187\n",
       "stats_%_male                           0\n",
       "University Name                        1\n",
       "subjects_offered                       5\n",
       "closed                                 1\n",
       "unaccredited                           1\n",
       "top_20                                 0\n",
       "dtype: int64"
      ]
     },
     "execution_count": 289,
     "metadata": {},
     "output_type": "execute_result"
    }
   ],
   "source": [
    "df.isnull().sum()"
   ]
  },
  {
   "cell_type": "markdown",
   "id": "95dfae14-b490-4245-9341-a2d04cd18c45",
   "metadata": {},
   "source": [
    "(3)The data in the column **stats_number_students** is supposed to be integer but is listed as object. Complete the following line of code to convert them to integer. "
   ]
  },
  {
   "cell_type": "code",
   "execution_count": 163,
   "id": "ec887edf-46fb-4899-9bda-3eb157e2495e",
   "metadata": {},
   "outputs": [],
   "source": [
    "#Remove the ',' in the stringed numbers\n",
    "df[\"stats_number_students\"]=df[\"stats_number_students\"].str.replace(\",\",\"\")\n",
    "#change the value in the last cell of the column from NaN to 0\n",
    "df[\"stats_number_students\"]=df[\"stats_number_students\"].fillna(0)\n",
    "\n",
    "#convert from string to integer\n",
    "df[\"stats_number_students\"]=df[\"stats_number_students\"].astype(int)"
   ]
  },
  {
   "cell_type": "code",
   "execution_count": 165,
   "id": "9c64d130-465e-474a-97e1-a54043f74338",
   "metadata": {},
   "outputs": [
    {
     "data": {
      "text/plain": [
       "0       21750\n",
       "1       14517\n",
       "2       11085\n",
       "3       20050\n",
       "4       20565\n",
       "        ...  \n",
       "2667     4872\n",
       "2668     4454\n",
       "2669    31103\n",
       "2670     5672\n",
       "2671        0\n",
       "Name: stats_number_students, Length: 2672, dtype: int32"
      ]
     },
     "execution_count": 165,
     "metadata": {},
     "output_type": "execute_result"
    }
   ],
   "source": [
    "df[\"stats_number_students\"]"
   ]
  },
  {
   "cell_type": "markdown",
   "id": "57514d08-953c-4f21-9510-61564b661b1d",
   "metadata": {},
   "source": [
    "(4) Display basic descriptive statistics for the numerical features. "
   ]
  },
  {
   "cell_type": "code",
   "execution_count": 169,
   "id": "371458b3-7bdb-4260-afec-484c0e8330b2",
   "metadata": {},
   "outputs": [
    {
     "data": {
      "text/html": [
       "<div>\n",
       "<style scoped>\n",
       "    .dataframe tbody tr th:only-of-type {\n",
       "        vertical-align: middle;\n",
       "    }\n",
       "\n",
       "    .dataframe tbody tr th {\n",
       "        vertical-align: top;\n",
       "    }\n",
       "\n",
       "    .dataframe thead th {\n",
       "        text-align: right;\n",
       "    }\n",
       "</style>\n",
       "<table border=\"1\" class=\"dataframe\">\n",
       "  <thead>\n",
       "    <tr style=\"text-align: right;\">\n",
       "      <th></th>\n",
       "      <th>count</th>\n",
       "      <th>mean</th>\n",
       "      <th>std</th>\n",
       "      <th>min</th>\n",
       "      <th>25%</th>\n",
       "      <th>50%</th>\n",
       "      <th>75%</th>\n",
       "      <th>max</th>\n",
       "    </tr>\n",
       "  </thead>\n",
       "  <tbody>\n",
       "    <tr>\n",
       "      <th>scores_overall</th>\n",
       "      <td>1906.0</td>\n",
       "      <td>33.040976</td>\n",
       "      <td>18.759645</td>\n",
       "      <td>9.0</td>\n",
       "      <td>22.000</td>\n",
       "      <td>32.000000</td>\n",
       "      <td>45.000</td>\n",
       "      <td>98.5</td>\n",
       "    </tr>\n",
       "    <tr>\n",
       "      <th>overall_rank</th>\n",
       "      <td>2671.0</td>\n",
       "      <td>293323.467990</td>\n",
       "      <td>448053.815328</td>\n",
       "      <td>10.0</td>\n",
       "      <td>6685.000</td>\n",
       "      <td>13360.000000</td>\n",
       "      <td>1000097.500</td>\n",
       "      <td>1000766.0</td>\n",
       "    </tr>\n",
       "    <tr>\n",
       "      <th>scores_teaching</th>\n",
       "      <td>2671.0</td>\n",
       "      <td>26.337439</td>\n",
       "      <td>13.450358</td>\n",
       "      <td>1.2</td>\n",
       "      <td>17.600</td>\n",
       "      <td>22.900000</td>\n",
       "      <td>31.300</td>\n",
       "      <td>120.3</td>\n",
       "    </tr>\n",
       "    <tr>\n",
       "      <th>scores_teaching_rank</th>\n",
       "      <td>2669.0</td>\n",
       "      <td>957.579430</td>\n",
       "      <td>500.712251</td>\n",
       "      <td>1.0</td>\n",
       "      <td>666.000</td>\n",
       "      <td>781.500000</td>\n",
       "      <td>1371.000</td>\n",
       "      <td>1906.0</td>\n",
       "    </tr>\n",
       "    <tr>\n",
       "      <th>scores_research</th>\n",
       "      <td>2672.0</td>\n",
       "      <td>21.715756</td>\n",
       "      <td>15.925738</td>\n",
       "      <td>0.4</td>\n",
       "      <td>11.300</td>\n",
       "      <td>16.300000</td>\n",
       "      <td>26.300</td>\n",
       "      <td>182.0</td>\n",
       "    </tr>\n",
       "    <tr>\n",
       "      <th>scores_research_rank</th>\n",
       "      <td>2672.0</td>\n",
       "      <td>966.116018</td>\n",
       "      <td>504.641440</td>\n",
       "      <td>1.0</td>\n",
       "      <td>668.750</td>\n",
       "      <td>787.000000</td>\n",
       "      <td>1393.250</td>\n",
       "      <td>1906.0</td>\n",
       "    </tr>\n",
       "    <tr>\n",
       "      <th>scores_citations</th>\n",
       "      <td>2672.0</td>\n",
       "      <td>45.095734</td>\n",
       "      <td>25.732541</td>\n",
       "      <td>1.6</td>\n",
       "      <td>23.400</td>\n",
       "      <td>41.600000</td>\n",
       "      <td>65.500</td>\n",
       "      <td>333.3</td>\n",
       "    </tr>\n",
       "    <tr>\n",
       "      <th>scores_citations_rank</th>\n",
       "      <td>2672.0</td>\n",
       "      <td>982.789678</td>\n",
       "      <td>512.088857</td>\n",
       "      <td>1.0</td>\n",
       "      <td>668.750</td>\n",
       "      <td>815.480344</td>\n",
       "      <td>1435.250</td>\n",
       "      <td>1906.0</td>\n",
       "    </tr>\n",
       "    <tr>\n",
       "      <th>scores_industry_income</th>\n",
       "      <td>2672.0</td>\n",
       "      <td>44.842440</td>\n",
       "      <td>23.060899</td>\n",
       "      <td>15.6</td>\n",
       "      <td>23.900</td>\n",
       "      <td>44.842440</td>\n",
       "      <td>58.925</td>\n",
       "      <td>100.0</td>\n",
       "    </tr>\n",
       "    <tr>\n",
       "      <th>scores_industry_income_rank</th>\n",
       "      <td>2672.0</td>\n",
       "      <td>957.183945</td>\n",
       "      <td>500.622835</td>\n",
       "      <td>1.0</td>\n",
       "      <td>664.750</td>\n",
       "      <td>780.500000</td>\n",
       "      <td>1372.250</td>\n",
       "      <td>1906.0</td>\n",
       "    </tr>\n",
       "    <tr>\n",
       "      <th>scores_international_outlook</th>\n",
       "      <td>2672.0</td>\n",
       "      <td>46.974439</td>\n",
       "      <td>19.381788</td>\n",
       "      <td>16.1</td>\n",
       "      <td>33.600</td>\n",
       "      <td>42.500000</td>\n",
       "      <td>55.825</td>\n",
       "      <td>98.8</td>\n",
       "    </tr>\n",
       "    <tr>\n",
       "      <th>scores_international_outlook_rank</th>\n",
       "      <td>2672.0</td>\n",
       "      <td>843.989521</td>\n",
       "      <td>495.864212</td>\n",
       "      <td>1.0</td>\n",
       "      <td>571.500</td>\n",
       "      <td>571.500000</td>\n",
       "      <td>1238.250</td>\n",
       "      <td>1906.0</td>\n",
       "    </tr>\n",
       "    <tr>\n",
       "      <th>stats_number_students</th>\n",
       "      <td>2672.0</td>\n",
       "      <td>18360.534431</td>\n",
       "      <td>23329.716842</td>\n",
       "      <td>0.0</td>\n",
       "      <td>6178.750</td>\n",
       "      <td>12777.500000</td>\n",
       "      <td>23960.500</td>\n",
       "      <td>482541.0</td>\n",
       "    </tr>\n",
       "    <tr>\n",
       "      <th>stats_student_staff_ratio</th>\n",
       "      <td>2672.0</td>\n",
       "      <td>19.126534</td>\n",
       "      <td>13.457096</td>\n",
       "      <td>0.0</td>\n",
       "      <td>12.275</td>\n",
       "      <td>16.600000</td>\n",
       "      <td>22.500</td>\n",
       "      <td>333.3</td>\n",
       "    </tr>\n",
       "    <tr>\n",
       "      <th>stats_%_intl_students</th>\n",
       "      <td>2672.0</td>\n",
       "      <td>0.098028</td>\n",
       "      <td>0.134920</td>\n",
       "      <td>0.0</td>\n",
       "      <td>0.010</td>\n",
       "      <td>0.050000</td>\n",
       "      <td>0.130</td>\n",
       "      <td>1.0</td>\n",
       "    </tr>\n",
       "    <tr>\n",
       "      <th>stats_%_female</th>\n",
       "      <td>2485.0</td>\n",
       "      <td>47.357746</td>\n",
       "      <td>12.753500</td>\n",
       "      <td>0.0</td>\n",
       "      <td>40.000</td>\n",
       "      <td>46.000000</td>\n",
       "      <td>55.000</td>\n",
       "      <td>76.0</td>\n",
       "    </tr>\n",
       "    <tr>\n",
       "      <th>stats_%_male</th>\n",
       "      <td>2672.0</td>\n",
       "      <td>44.043413</td>\n",
       "      <td>17.242201</td>\n",
       "      <td>0.0</td>\n",
       "      <td>38.000</td>\n",
       "      <td>45.000000</td>\n",
       "      <td>54.000</td>\n",
       "      <td>76.0</td>\n",
       "    </tr>\n",
       "  </tbody>\n",
       "</table>\n",
       "</div>"
      ],
      "text/plain": [
       "                                    count           mean            std   min  \\\n",
       "scores_overall                     1906.0      33.040976      18.759645   9.0   \n",
       "overall_rank                       2671.0  293323.467990  448053.815328  10.0   \n",
       "scores_teaching                    2671.0      26.337439      13.450358   1.2   \n",
       "scores_teaching_rank               2669.0     957.579430     500.712251   1.0   \n",
       "scores_research                    2672.0      21.715756      15.925738   0.4   \n",
       "scores_research_rank               2672.0     966.116018     504.641440   1.0   \n",
       "scores_citations                   2672.0      45.095734      25.732541   1.6   \n",
       "scores_citations_rank              2672.0     982.789678     512.088857   1.0   \n",
       "scores_industry_income             2672.0      44.842440      23.060899  15.6   \n",
       "scores_industry_income_rank        2672.0     957.183945     500.622835   1.0   \n",
       "scores_international_outlook       2672.0      46.974439      19.381788  16.1   \n",
       "scores_international_outlook_rank  2672.0     843.989521     495.864212   1.0   \n",
       "stats_number_students              2672.0   18360.534431   23329.716842   0.0   \n",
       "stats_student_staff_ratio          2672.0      19.126534      13.457096   0.0   \n",
       "stats_%_intl_students              2672.0       0.098028       0.134920   0.0   \n",
       "stats_%_female                     2485.0      47.357746      12.753500   0.0   \n",
       "stats_%_male                       2672.0      44.043413      17.242201   0.0   \n",
       "\n",
       "                                        25%           50%          75%  \\\n",
       "scores_overall                       22.000     32.000000       45.000   \n",
       "overall_rank                       6685.000  13360.000000  1000097.500   \n",
       "scores_teaching                      17.600     22.900000       31.300   \n",
       "scores_teaching_rank                666.000    781.500000     1371.000   \n",
       "scores_research                      11.300     16.300000       26.300   \n",
       "scores_research_rank                668.750    787.000000     1393.250   \n",
       "scores_citations                     23.400     41.600000       65.500   \n",
       "scores_citations_rank               668.750    815.480344     1435.250   \n",
       "scores_industry_income               23.900     44.842440       58.925   \n",
       "scores_industry_income_rank         664.750    780.500000     1372.250   \n",
       "scores_international_outlook         33.600     42.500000       55.825   \n",
       "scores_international_outlook_rank   571.500    571.500000     1238.250   \n",
       "stats_number_students              6178.750  12777.500000    23960.500   \n",
       "stats_student_staff_ratio            12.275     16.600000       22.500   \n",
       "stats_%_intl_students                 0.010      0.050000        0.130   \n",
       "stats_%_female                       40.000     46.000000       55.000   \n",
       "stats_%_male                         38.000     45.000000       54.000   \n",
       "\n",
       "                                         max  \n",
       "scores_overall                          98.5  \n",
       "overall_rank                       1000766.0  \n",
       "scores_teaching                        120.3  \n",
       "scores_teaching_rank                  1906.0  \n",
       "scores_research                        182.0  \n",
       "scores_research_rank                  1906.0  \n",
       "scores_citations                       333.3  \n",
       "scores_citations_rank                 1906.0  \n",
       "scores_industry_income                 100.0  \n",
       "scores_industry_income_rank           1906.0  \n",
       "scores_international_outlook            98.8  \n",
       "scores_international_outlook_rank     1906.0  \n",
       "stats_number_students               482541.0  \n",
       "stats_student_staff_ratio              333.3  \n",
       "stats_%_intl_students                    1.0  \n",
       "stats_%_female                          76.0  \n",
       "stats_%_male                            76.0  "
      ]
     },
     "execution_count": 169,
     "metadata": {},
     "output_type": "execute_result"
    }
   ],
   "source": [
    "df.describe().T"
   ]
  },
  {
   "cell_type": "markdown",
   "id": "3287657a-7a26-48ba-9e41-006582516e08",
   "metadata": {},
   "source": [
    "(5) Display basic descriptive statistics for the categorical features."
   ]
  },
  {
   "cell_type": "code",
   "execution_count": 295,
   "id": "027138a9-c9d6-4274-8934-a9cdf7f6765d",
   "metadata": {},
   "outputs": [
    {
     "data": {
      "text/html": [
       "<div>\n",
       "<style scoped>\n",
       "    .dataframe tbody tr th:only-of-type {\n",
       "        vertical-align: middle;\n",
       "    }\n",
       "\n",
       "    .dataframe tbody tr th {\n",
       "        vertical-align: top;\n",
       "    }\n",
       "\n",
       "    .dataframe thead th {\n",
       "        text-align: right;\n",
       "    }\n",
       "</style>\n",
       "<table border=\"1\" class=\"dataframe\">\n",
       "  <thead>\n",
       "    <tr style=\"text-align: right;\">\n",
       "      <th></th>\n",
       "      <th>location</th>\n",
       "      <th>University Name</th>\n",
       "      <th>subjects_offered</th>\n",
       "      <th>closed</th>\n",
       "      <th>unaccredited</th>\n",
       "    </tr>\n",
       "  </thead>\n",
       "  <tbody>\n",
       "    <tr>\n",
       "      <th>count</th>\n",
       "      <td>2670</td>\n",
       "      <td>2671</td>\n",
       "      <td>2667</td>\n",
       "      <td>2671</td>\n",
       "      <td>2671</td>\n",
       "    </tr>\n",
       "    <tr>\n",
       "      <th>unique</th>\n",
       "      <td>127</td>\n",
       "      <td>2671</td>\n",
       "      <td>2565</td>\n",
       "      <td>2</td>\n",
       "      <td>2</td>\n",
       "    </tr>\n",
       "    <tr>\n",
       "      <th>top</th>\n",
       "      <td>United States</td>\n",
       "      <td>University of Oxford</td>\n",
       "      <td>Medicine &amp; Dentistry,Other Health</td>\n",
       "      <td>FALSE</td>\n",
       "      <td>False</td>\n",
       "    </tr>\n",
       "    <tr>\n",
       "      <th>freq</th>\n",
       "      <td>175</td>\n",
       "      <td>1</td>\n",
       "      <td>32</td>\n",
       "      <td>1811</td>\n",
       "      <td>2069</td>\n",
       "    </tr>\n",
       "  </tbody>\n",
       "</table>\n",
       "</div>"
      ],
      "text/plain": [
       "             location       University Name  \\\n",
       "count            2670                  2671   \n",
       "unique            127                  2671   \n",
       "top     United States  University of Oxford   \n",
       "freq              175                     1   \n",
       "\n",
       "                         subjects_offered closed unaccredited  \n",
       "count                                2667   2671         2671  \n",
       "unique                               2565      2            2  \n",
       "top     Medicine & Dentistry,Other Health  FALSE        False  \n",
       "freq                                   32   1811         2069  "
      ]
     },
     "execution_count": 295,
     "metadata": {},
     "output_type": "execute_result"
    }
   ],
   "source": [
    "df.describe(include= object)"
   ]
  },
  {
   "cell_type": "markdown",
   "id": "e80dadee-721a-4240-8b38-941ccd6167f1",
   "metadata": {},
   "source": [
    "(6) Visualize the distribution of \"scores_overall\" using a histogram and interpret the plot. "
   ]
  },
  {
   "cell_type": "code",
   "execution_count": 183,
   "id": "3226615b-e15e-42c8-a945-cc2680365361",
   "metadata": {},
   "outputs": [
    {
     "data": {
      "text/plain": [
       "<function matplotlib.pyplot.show(close=None, block=None)>"
      ]
     },
     "execution_count": 183,
     "metadata": {},
     "output_type": "execute_result"
    },
    {
     "data": {
      "image/png": "[encoded data removed]",
      "text/plain": [
       "<Figure size 640x480 with 1 Axes>"
      ]
     },
     "metadata": {},
     "output_type": "display_data"
    }
   ],
   "source": [
    "plt.hist(df[\"scores_overall\"])\n",
    "plt.show"
   ]
  },
  {
   "cell_type": "markdown",
   "id": "7536de31-8d17-4eae-b219-02c191eea2c0",
   "metadata": {},
   "source": [
    "(7) Create a boxplot for scores_research to detect any outliers. Are there outliers? "
   ]
  },
  {
   "cell_type": "code",
   "execution_count": 187,
   "id": "e7ef325e-16be-4eee-acb5-959981803e91",
   "metadata": {},
   "outputs": [
    {
     "data": {
      "image/png": "[encoded data removed]",
      "text/plain": [
       "<Figure size 640x480 with 1 Axes>"
      ]
     },
     "metadata": {},
     "output_type": "display_data"
    }
   ],
   "source": [
    "plt.boxplot(df[\"scores_research\"])\n",
    "plt.show()"
   ]
  },
  {
   "cell_type": "markdown",
   "id": "58a4350e-4544-41db-9ccb-76d97198f748",
   "metadata": {},
   "source": [
    "(8) Plot a correlation heatmap to visualize the correlations between the features **scores_teaching**, **scores_research**,**scores_citations**, **scores_industry_income**,**stats_number_students**,**stats_student_staff_ratio** . "
   ]
  },
  {
   "cell_type": "code",
   "execution_count": 293,
   "id": "fe9a26ae-b267-4acd-a420-3512bf76c23a",
   "metadata": {},
   "outputs": [
    {
     "data": {
      "text/plain": [
       "<Axes: >"
      ]
     },
     "execution_count": 293,
     "metadata": {},
     "output_type": "execute_result"
    },
    {
     "data": {
      "image/png": "[encoded data removed]",
      "text/plain": [
       "<Figure size 640x480 with 2 Axes>"
      ]
     },
     "metadata": {},
     "output_type": "display_data"
    }
   ],
   "source": [
    "corr = (df[[\"scores_teaching\",\"scores_research\",\"scores_citations\",\"scores_industry_income\",\"stats_number_students\",\"stats_student_staff_ratio\"]])\n",
    "a=corr.corr()\n",
    "sns.heatmap(a, annot = True)"
   ]
  },
  {
   "cell_type": "markdown",
   "id": "64fa5e4d-d602-4a3c-a5f6-72ee5fbebd4f",
   "metadata": {},
   "source": [
    "(9) What can you say about the relationship between scores_teaching and scores_research? "
   ]
  },
  {
   "cell_type": "markdown",
   "id": "46370630-ab93-4ce6-9113-725a970790dd",
   "metadata": {},
   "source": [
    "##### There is a perfect correlation between scores_teaching and scores_research"
   ]
  },
  {
   "cell_type": "markdown",
   "id": "235ab399-2692-429a-955f-d558aa2cae48",
   "metadata": {},
   "source": [
    "(10) Complete the line of code below to generate a countplot for the **location** showing the number of universities per country for the top 10 countries. **(2 marks)**"
   ]
  },
  {
   "cell_type": "code",
   "execution_count": 213,
   "id": "e03d4e6e-08dc-4d9c-af7f-09afcbccb1f2",
   "metadata": {},
   "outputs": [
    {
     "data": {
      "image/png": "[encoded data removed]",
      "text/plain": [
       "<Figure size 640x480 with 1 Axes>"
      ]
     },
     "metadata": {},
     "output_type": "display_data"
    }
   ],
   "source": [
    "sns.countplot(x=\"location\", data=df,order=df[\"location\"].value_counts().iloc[:10].index)  \n",
    "plt.xticks(rotation=45)  \n",
    "plt.show()"
   ]
  },
  {
   "cell_type": "markdown",
   "id": "5e2fde3e-878d-4819-b7e2-3ff12bb5bb6f",
   "metadata": {},
   "source": [
    "(11) Create a new binary column, **'top_20'**, where 1 indicates a university ranked in the top 20, and 0 otherwise. Note: You can use the **where** function."
   ]
  },
  {
   "cell_type": "code",
   "execution_count": 215,
   "id": "df03951b-b318-43bd-84ed-8a08cb97cfc3",
   "metadata": {},
   "outputs": [
    {
     "data": {
      "text/plain": [
       "0       1\n",
       "1       1\n",
       "2       0\n",
       "3       0\n",
       "4       0\n",
       "       ..\n",
       "2667    0\n",
       "2668    0\n",
       "2669    0\n",
       "2670    0\n",
       "2671    0\n",
       "Name: top_20, Length: 2672, dtype: int32"
      ]
     },
     "execution_count": 215,
     "metadata": {},
     "output_type": "execute_result"
    }
   ],
   "source": [
    "df['top_20'] = np.where(df['overall_rank'] <= 20, 1, 0)  \n",
    "df['top_20']"
   ]
  }
 ],
 "metadata": {
  "kernelspec": {
   "display_name": "Python [conda env:base] *",
   "language": "python",
   "name": "conda-base-py"
  },
  "language_info": {
   "codemirror_mode": {
    "name": "ipython",
    "version": 3
   },
   "file_extension": ".py",
   "mimetype": "text/x-python",
   "name": "python",
   "nbconvert_exporter": "python",
   "pygments_lexer": "ipython3",
   "version": "3.13.5"
  }
 },
 "nbformat": 4,
 "nbformat_minor": 5
}
